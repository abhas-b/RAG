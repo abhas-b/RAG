{
 "cells": [
  {
   "cell_type": "code",
   "execution_count": 1,
   "id": "4981a955",
   "metadata": {},
   "outputs": [],
   "source": [
    "import os\n",
    "import pandas as pd\n",
    "from typing import List, Dict, Any\n",
    "from langchain_core.documents import Document\n",
    "from langchain.text_splitter import (RecursiveCharacterTextSplitter,\n",
    "                                     CharacterTextSplitter,\n",
    "                                     TokenTextSplitter)\n",
    "from langchain_community.document_loaders import (\n",
    "    PyPDFLoader,\n",
    "    PyMuPDFLoader,\n",
    "    UnstructuredPDFLoader\n",
    ")"
   ]
  },
  {
   "cell_type": "markdown",
   "id": "acab417f",
   "metadata": {},
   "source": [
    "# PyPDFLoader"
   ]
  },
  {
   "cell_type": "code",
   "execution_count": 2,
   "id": "809f8705",
   "metadata": {},
   "outputs": [],
   "source": [
    "try:\n",
    "    pypdf_loader = PyPDFLoader(\"../data/pdf/attention is all you need.pdf\")\n",
    "    pypdf_docs = pypdf_loader.load()\n",
    "    # print(pypdf_docs[0].page_content[:100])\n",
    "except Exception as e:\n",
    "    print(f\"Error: {e}\")"
   ]
  },
  {
   "cell_type": "code",
   "execution_count": 3,
   "id": "74449b64",
   "metadata": {},
   "outputs": [
    {
     "name": "stdout",
     "output_type": "stream",
     "text": [
      "15\n"
     ]
    },
    {
     "data": {
      "text/plain": [
       "'Provided proper attribution is provided, Google hereby grants permission to\\nreproduce the tables and'"
      ]
     },
     "execution_count": 3,
     "metadata": {},
     "output_type": "execute_result"
    }
   ],
   "source": [
    "print(len(pypdf_docs))\n",
    "pypdf_docs[0].page_content[:100]"
   ]
  },
  {
   "cell_type": "markdown",
   "id": "028e2281",
   "metadata": {},
   "source": [
    "# PyMuDFLoader"
   ]
  },
  {
   "cell_type": "code",
   "execution_count": 4,
   "id": "22279555",
   "metadata": {},
   "outputs": [],
   "source": [
    "try:\n",
    "    pymupdf_loader = PyMuPDFLoader(\"../data/pdf/attention is all you need.pdf\")\n",
    "    pymupdf_docs = pymupdf_loader.load()\n",
    "    # print(pymupdf_docs[:100])\n",
    "except Exception as e:\n",
    "    print(f\"Error: {e}\")"
   ]
  },
  {
   "cell_type": "code",
   "execution_count": 5,
   "id": "80012605",
   "metadata": {},
   "outputs": [
    {
     "name": "stdout",
     "output_type": "stream",
     "text": [
      "15\n"
     ]
    },
    {
     "data": {
      "text/plain": [
       "'Provided proper attribution is provided, Google hereby grants permission to\\nreproduce the tables and'"
      ]
     },
     "execution_count": 5,
     "metadata": {},
     "output_type": "execute_result"
    }
   ],
   "source": [
    "print(len(pymupdf_docs))\n",
    "pymupdf_docs[0].page_content[:100]"
   ]
  },
  {
   "cell_type": "markdown",
   "id": "157bb100",
   "metadata": {},
   "source": [
    "# PDF Pre-processing"
   ]
  },
  {
   "cell_type": "code",
   "execution_count": null,
   "id": "c1b159fd",
   "metadata": {},
   "outputs": [],
   "source": [
    "class PDFProcessor:\n",
    "    chunk_size: int\n",
    "    chunk_overlap: int\n",
    "\n",
    "    def __init__(self, chunk_size=1000, chunk_overlap=100):\n",
    "        self.chunk_size = chunk_size\n",
    "        self.chunk_overlap = chunk_overlap\n",
    "        self.text_splitter = RecursiveCharacterTextSplitter(\n",
    "            chunk_overlap=self.chunk_overlap,\n",
    "            chunk_size=self.chunk_size,\n",
    "            separators=[\" \"]\n",
    "        )\n",
    "\n",
    "    def _clean_text(self, text):\n",
    "        text = \" \".join(text.split())\n",
    "        return text\n",
    "\n",
    "    def process_pdf(self, pdf_path:str) -> List[Document]:\n",
    "        \"\"\"Process PDF with chunking and metadata enhancement\"\"\"\n",
    "        loader = PyPDFLoader(pdf_path)\n",
    "        pages = loader.load()\n",
    "\n",
    "        processed_chunks = []\n",
    "\n",
    "        for page_num, page in enumerate(pages):\n",
    "            cleaned_text = self._clean_text(page.page_content)\n",
    "\n",
    "            if len(cleaned_text.strip()) < 50:\n",
    "                continue\n",
    "\n",
    "            chunks = self.text_splitter.create_documents(\n",
    "                texts=[cleaned_text],\n",
    "                metadatas=[{\n",
    "                    **page.metadata,\n",
    "                    \"page\": page_num+1,\n",
    "                    \"total_pages\": len(pages),\n",
    "                    \"chunk_method\": \"pdf processor\",\n",
    "                    \"char_count\": len(cleaned_text)\n",
    "                }]\n",
    "            )\n",
    "\n",
    "            processed_chunks.extend(chunks)\n",
    "\n",
    "        print(f\"Number of chunks generated: {len(processed_chunks)}\")\n",
    "\n",
    "        return processed_chunks "
   ]
  },
  {
   "cell_type": "code",
   "execution_count": 7,
   "id": "670dace7",
   "metadata": {},
   "outputs": [
    {
     "name": "stdout",
     "output_type": "stream",
     "text": [
      "Number of chunks generated: 49\n"
     ]
    }
   ],
   "source": [
    "pdf_processor = PDFProcessor()\n",
    "chunks = pdf_processor.process_pdf(\"../data/pdf/attention is all you need.pdf\")\n",
    "# chunks[0]"
   ]
  },
  {
   "cell_type": "code",
   "execution_count": 8,
   "id": "c076a15f",
   "metadata": {},
   "outputs": [
    {
     "data": {
      "text/plain": [
       "'Provided proper attribution is provided, Google hereby grants permission to reproduce the tables and'"
      ]
     },
     "execution_count": 8,
     "metadata": {},
     "output_type": "execute_result"
    }
   ],
   "source": [
    "chunks[0].page_content[:100]"
   ]
  },
  {
   "cell_type": "code",
   "execution_count": 9,
   "id": "2f9a1d06",
   "metadata": {},
   "outputs": [
    {
     "data": {
      "text/plain": [
       "{'producer': 'pdfTeX-1.40.25',\n",
       " 'creator': 'LaTeX with hyperref',\n",
       " 'creationdate': '2024-04-10T21:11:43+00:00',\n",
       " 'author': '',\n",
       " 'keywords': '',\n",
       " 'moddate': '2024-04-10T21:11:43+00:00',\n",
       " 'ptex.fullbanner': 'This is pdfTeX, Version 3.141592653-2.6-1.40.25 (TeX Live 2023) kpathsea version 6.3.5',\n",
       " 'subject': '',\n",
       " 'title': '',\n",
       " 'trapped': '/False',\n",
       " 'source': '../data/pdf/attention is all you need.pdf',\n",
       " 'total_pages': 15,\n",
       " 'page': 1,\n",
       " 'page_label': '1',\n",
       " 'chunk_method': 'pdf processor',\n",
       " 'char_count': 2857}"
      ]
     },
     "execution_count": 9,
     "metadata": {},
     "output_type": "execute_result"
    }
   ],
   "source": [
    "chunks[0].metadata"
   ]
  },
  {
   "cell_type": "code",
   "execution_count": null,
   "id": "d393642e",
   "metadata": {},
   "outputs": [],
   "source": []
  }
 ],
 "metadata": {
  "kernelspec": {
   "display_name": "RAG",
   "language": "python",
   "name": "python3"
  },
  "language_info": {
   "codemirror_mode": {
    "name": "ipython",
    "version": 3
   },
   "file_extension": ".py",
   "mimetype": "text/x-python",
   "name": "python",
   "nbconvert_exporter": "python",
   "pygments_lexer": "ipython3",
   "version": "3.11.9"
  }
 },
 "nbformat": 4,
 "nbformat_minor": 5
}
