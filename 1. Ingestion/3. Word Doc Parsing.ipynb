{
 "cells": [
  {
   "cell_type": "code",
   "execution_count": 1,
   "id": "7c4bcd6e",
   "metadata": {},
   "outputs": [],
   "source": [
    "from docx import Document as DocxDocument\n",
    "import os\n",
    "from langchain_community.document_loaders import Docx2txtLoader, UnstructuredWordDocumentLoader"
   ]
  },
  {
   "cell_type": "markdown",
   "id": "dd65a250",
   "metadata": {},
   "source": [
    "# Using Docx2txtLoader"
   ]
  },
  {
   "cell_type": "code",
   "execution_count": 8,
   "id": "408fcff5",
   "metadata": {},
   "outputs": [
    {
     "name": "stdout",
     "output_type": "stream",
     "text": [
      "1\n",
      "Introduction:\n",
      "\n",
      "\n",
      "\n",
      "To buy farmland in Karnataka, you must gather essential documents including the sel\n"
     ]
    }
   ],
   "source": [
    "try:\n",
    "    docx_loader = Docx2txtLoader(\"../data/doc/sample_doc.docx\")\n",
    "    docs = docx_loader.load()\n",
    "    print(len(docs))\n",
    "    print(docs[0].page_content[:100])\n",
    "except Exception as e:\n",
    "    print(e)"
   ]
  },
  {
   "cell_type": "markdown",
   "id": "612f205e",
   "metadata": {},
   "source": [
    "# UnstructuredWordDocumentLoader"
   ]
  },
  {
   "cell_type": "code",
   "execution_count": 9,
   "id": "bb76d619",
   "metadata": {},
   "outputs": [
    {
     "name": "stdout",
     "output_type": "stream",
     "text": [
      "Loaded 22 elements\n",
      "To buy farmland in Karnataka, you must gather essential documents including the seller's ID and PAN \n",
      "NarrativeText\n"
     ]
    }
   ],
   "source": [
    "try:\n",
    "    docx_loader2 = UnstructuredWordDocumentLoader(\"../data/doc/sample_doc.docx\", mode=\"elements\")\n",
    "    docs2 = docx_loader2.load()\n",
    "    \n",
    "    # print(docs2)\n",
    "    print(f\"Loaded {len(docs2)} elements\")\n",
    "    print(docs2[1].page_content[:100])\n",
    "    print(docs2[1].metadata.get(\"category\"))\n",
    "except Exception as e:\n",
    "    print(e)"
   ]
  },
  {
   "cell_type": "code",
   "execution_count": null,
   "id": "5d566c75",
   "metadata": {},
   "outputs": [],
   "source": []
  }
 ],
 "metadata": {
  "kernelspec": {
   "display_name": "RAG",
   "language": "python",
   "name": "python3"
  },
  "language_info": {
   "codemirror_mode": {
    "name": "ipython",
    "version": 3
   },
   "file_extension": ".py",
   "mimetype": "text/x-python",
   "name": "python",
   "nbconvert_exporter": "python",
   "pygments_lexer": "ipython3",
   "version": "3.11.9"
  }
 },
 "nbformat": 4,
 "nbformat_minor": 5
}
