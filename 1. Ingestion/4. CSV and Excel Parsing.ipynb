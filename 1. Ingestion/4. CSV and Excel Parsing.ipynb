{
 "cells": [
  {
   "cell_type": "code",
   "execution_count": 43,
   "id": "bd9f9cc6",
   "metadata": {},
   "outputs": [],
   "source": [
    "import pandas as pd\n",
    "from langchain_community.document_loaders import CSVLoader, UnstructuredCSVLoader, UnstructuredExcelLoader\n",
    "from typing import List\n",
    "from langchain_core.documents import Document"
   ]
  },
  {
   "cell_type": "markdown",
   "id": "192c298c",
   "metadata": {},
   "source": [
    "# CSV Loader"
   ]
  },
  {
   "cell_type": "code",
   "execution_count": 15,
   "id": "81d395cd",
   "metadata": {},
   "outputs": [
    {
     "name": "stdout",
     "output_type": "stream",
     "text": [
      "10\n",
      "Page Content: ﻿OrderID: 1002\n",
      "Date: 01-09-2025\n",
      "CustomerID: C002\n",
      "Product: Notebook Stationery\n",
      "Quantity: 5\n",
      "TotalPrice: 10\n",
      "Metadata: {'source': '..\\\\data\\\\csv\\\\sample_csv.csv', 'row': 1}\n"
     ]
    }
   ],
   "source": [
    "csv_loader = CSVLoader(\n",
    "    file_path=\"..\\data\\csv\\sample_csv.csv\",\n",
    "    encoding='utf-8',\n",
    "    csv_args={\n",
    "        'delimiter':',',\n",
    "        'quotechar': '\"'\n",
    "    }\n",
    ")\n",
    "\n",
    "csv_docs = csv_loader.load()\n",
    "print(len(csv_docs))\n",
    "print(f\"Page Content: {csv_docs[1].page_content}\")\n",
    "print(f\"Metadata: {csv_docs[1].metadata}\")"
   ]
  },
  {
   "cell_type": "markdown",
   "id": "e809bb41",
   "metadata": {},
   "source": [
    "# Custom CSV Processor for adding additional Metadata"
   ]
  },
  {
   "cell_type": "code",
   "execution_count": null,
   "id": "70649d98",
   "metadata": {},
   "outputs": [
    {
     "data": {
      "text/plain": [
       "'OrderID: 1002, Date: 01-09-2025, CustomerID: C002, Product: Notebook Stationery, Quantity: 5, TotalPrice: 10.0'"
      ]
     },
     "execution_count": 23,
     "metadata": {},
     "output_type": "execute_result"
    }
   ],
   "source": [
    "def custom_csv_process(filepath: str) -> List[Document]:\n",
    "    \"\"\"Add additional metadata to CSV Loader\"\"\"\n",
    "\n",
    "    df = pd.read_csv(filepath)\n",
    "\n",
    "    documents = []\n",
    "\n",
    "    # Method1: Create one document per row\n",
    "    for idx, row in df.iterrows():\n",
    "        content = f\"\"\"OrderID: {row[\"OrderID\"]}, Date: {row[\"Date\"]}, CustomerID: {row[\"CustomerID\"]}, Product: {row[\"Product\"]}, Quantity: {row[\"Quantity\"]}, TotalPrice: {row[\"TotalPrice\"]}\"\"\"\n",
    "        # print(content)\n",
    "\n",
    "        # Create the document\n",
    "        doc = Document(\n",
    "            content,\n",
    "            metadata={\n",
    "                'source': filepath,\n",
    "                'row_index': idx,\n",
    "                'product_name': row[\"Product\"],\n",
    "                'total_price': row[\"TotalPrice\"]\n",
    "            }\n",
    "        )\n",
    "\n",
    "        documents.append(doc)\n",
    "    return documents\n",
    "\n",
    "custom_csv_process(\"..\\data\\csv\\sample_csv.csv\")[1].page_content"
   ]
  },
  {
   "cell_type": "markdown",
   "id": "5641c92f",
   "metadata": {},
   "source": [
    "# Process Excel Files"
   ]
  },
  {
   "cell_type": "code",
   "execution_count": 42,
   "id": "b44e0604",
   "metadata": {},
   "outputs": [
    {
     "name": "stdout",
     "output_type": "stream",
     "text": [
      "Sheet: Sheet1Columns: OrderID, Date, CustomerID, Product, Category, Quantity, UnitPrice, TotalPrice, Region\n",
      "Rows: 10\n",
      "\n",
      " OrderID       Date CustomerID             Product        Category  Quantity  UnitPrice  TotalPrice Region\n",
      "    1001 2025-09-01       C001      Wireless Mouse     Electronics         2       25.5        51.0  North\n",
      "    1002 2025-09-01       C002 Notebook Stationery Office Supplies         5        2.0        10.0   East\n",
      "    1003 2025-09-02       C003           USB-C Hub     Electronics         1       45.0        45.0   West\n",
      "    1004 2025-09-02       C004          Desk Chair       Furniture         1      120.0       120.0  South\n",
      "    1005 2025-09-03       C002      Ballpoint Pens Office Supplies        10        0.8         8.0   East\n",
      "    1006 2025-09-03       C005         Monitor 24\"     Electronics         1      160.0       160.0  North\n",
      "    1007 2025-09-04       C006       Standing Desk       Furniture         1      300.0       300.0   West\n",
      "    1008 2025-09-04       C001       Paper Ream A4 Office Supplies         3        4.5        13.5  North\n",
      "    1009 2025-09-05       C007            Keyboard     Electronics         2       35.0        70.0  South\n",
      "    1010 2025-09-05       C008          Whiteboard Office Supplies         1       45.0        45.0   East\n"
     ]
    }
   ],
   "source": [
    "def custom_process_excel(filepath: str) -> List[Document]:\n",
    "    documents = []\n",
    "\n",
    "    excel_file = pd.ExcelFile(filepath)\n",
    "\n",
    "    for sheet_name in excel_file.sheet_names:\n",
    "        df = pd.read_excel(filepath, sheet_name=sheet_name)\n",
    "\n",
    "        # Create Document for each sheet\n",
    "        sheet_content = f\"Sheet: {sheet_name}\"\n",
    "        sheet_content += f\"Columns: {', '.join(df.columns)}\\n\"\n",
    "        sheet_content += f\"Rows: {len(df)}\\n\\n\"\n",
    "        sheet_content += df.to_string(index=False)\n",
    "\n",
    "        doc = Document(\n",
    "            sheet_content,\n",
    "            metadat={\n",
    "                'source': filepath\n",
    "            }\n",
    "        )\n",
    "\n",
    "        documents.append(doc)\n",
    "    return documents\n",
    "\n",
    "print(custom_process_excel(\"../data/xlsx/sample_excel.xlsx\")[0].page_content)"
   ]
  }
 ],
 "metadata": {
  "kernelspec": {
   "display_name": "RAG",
   "language": "python",
   "name": "python3"
  },
  "language_info": {
   "codemirror_mode": {
    "name": "ipython",
    "version": 3
   },
   "file_extension": ".py",
   "mimetype": "text/x-python",
   "name": "python",
   "nbconvert_exporter": "python",
   "pygments_lexer": "ipython3",
   "version": "3.11.9"
  }
 },
 "nbformat": 4,
 "nbformat_minor": 5
}
