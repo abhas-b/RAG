{
 "cells": [
  {
   "cell_type": "code",
   "execution_count": 21,
   "id": "f96e1de9",
   "metadata": {},
   "outputs": [],
   "source": [
    "import os\n",
    "import pandas as pd\n",
    "from typing import List, Dict, Any\n",
    "from langchain_core.documents import Document\n",
    "from langchain.text_splitter import (RecursiveCharacterTextSplitter,\n",
    "                                     CharacterTextSplitter,\n",
    "                                     TokenTextSplitter)\n",
    "from langchain_community.document_loaders import TextLoader, DirectoryLoader"
   ]
  },
  {
   "cell_type": "markdown",
   "id": "d7d085ac",
   "metadata": {},
   "source": [
    "# Create a Simple Document\n",
    "\n",
    "\n",
    "* Metadata is useful for:\n",
    "\n",
    "1. Filtering search results\n",
    "2. Tracking document sources\n",
    "3. Adding context in responses\n",
    "4. Debugging and auditing"
   ]
  },
  {
   "cell_type": "code",
   "execution_count": 10,
   "id": "9f700fcb",
   "metadata": {},
   "outputs": [
    {
     "name": "stdout",
     "output_type": "stream",
     "text": [
      "Content: This is the main text content that will be embedded and searched. \n",
      "\n",
      "Metadata: {'source': 'example.txt', 'page': 1, 'author': 'self', 'created_at': '2024-09-01', 'custom_field': 'any_value'}\n"
     ]
    }
   ],
   "source": [
    "doc = Document(page_content=\"This is the main text content that will be embedded and searched.\",\n",
    "               metadata={\"source\": \"example.txt\",\n",
    "                         \"page\": 1,\n",
    "                         \"author\": \"self\",\n",
    "                         \"created_at\":\"2024-09-01\",\n",
    "                         \"custom_field\":\"any_value\"})\n",
    "\n",
    "print(f\"\"\"Content: {doc.page_content} \\n\\nMetadata: {doc.metadata}\"\"\")"
   ]
  },
  {
   "cell_type": "markdown",
   "id": "4c712152",
   "metadata": {},
   "source": [
    "# Read Text File"
   ]
  },
  {
   "cell_type": "code",
   "execution_count": 17,
   "id": "30f84fc0",
   "metadata": {},
   "outputs": [],
   "source": [
    "loader = TextLoader(\"../data/txt/india real estate checklist.txt\", encoding='utf-8')\n",
    "documents = loader.load()"
   ]
  },
  {
   "cell_type": "code",
   "execution_count": 19,
   "id": "d86b3671",
   "metadata": {},
   "outputs": [
    {
     "data": {
      "text/plain": [
       "\"When buying farmland in India, you must check land title deeds and encumbrance certificates to ensure clear ownership and no financial liabilities, along with revenue records like the Record of Rights (ROR)/, mutation register, and property tax receipts to confirm tax compliance and a clean transaction history. Physical checks of the land, including boundary demarcation, soil quality, and water availability, are crucial. Additionally, be aware of state-specific rules, potential land ceiling limits, the need for conversion permissions, and zoning regulations. \\nLegal & Documentation Checks\\nTitle Deed & Ownership: Verify the seller's ownership and examine the title deed to ensure it's free from disputes. \\nEncumbrance Certificate (EC): This certificate confirms the land is free from any financial or legal liabilities like mortgages. \\nRecord of Rights (ROR) / 7-12 Extract: This document provides a history of land ownership and cultivation, verifying past transactions. \\nMutation Register: Check for entries that confirm the land's ownership transfer over time. \\nProperty Tax & Land Tax Receipts: Ensure all land taxes are paid up to date. \\nSurvey Documents: Obtain documents like a survey map or sketch to confirm land boundaries. \\nLegal Expertise: Consult a lawyer or real estate expert to review all documents for legal compliance and clarity. \\nPhysical & Land-Related Checks\\nSite Inspection: Visit the property to assess soil quality, water sources, and overall land condition. \\nWater Availability: Check for sufficient water sources, such as groundwater or irrigation facilities, which impact land productivity. \\nRoad Connectivity: Evaluate access to the farmland via roads, as this affects its value and accessibility. \\nBoundary Demarcation: Ensure the land's boundaries are clearly marked to prevent future disputes. \\nRegulatory & State-Specific Checks\\nLand Classification & Use: Confirm the land's classification (e.g., for crop farming, horticulture) and check for zoning regulations that might restrict usage. \\nState-Specific Restrictions: Research and understand the state's particular rules on who can buy agricultural land. \\nLand Ceiling Limits: Be aware of state-specific limits on the maximum amount of agricultural land an individual can own. \\nConversion Permissions: If you plan to use the land for non-agricultural purposes, obtain the necessary conversion permissions from authorities. \\n\""
      ]
     },
     "execution_count": 19,
     "metadata": {},
     "output_type": "execute_result"
    }
   ],
   "source": [
    "documents[0].page_content"
   ]
  },
  {
   "cell_type": "code",
   "execution_count": 20,
   "id": "961ee65c",
   "metadata": {},
   "outputs": [
    {
     "data": {
      "text/plain": [
       "{'source': '../data/txt/india real estate checklist.txt'}"
      ]
     },
     "execution_count": 20,
     "metadata": {},
     "output_type": "execute_result"
    }
   ],
   "source": [
    "documents[0].metadata"
   ]
  },
  {
   "cell_type": "markdown",
   "id": "9b351b15",
   "metadata": {},
   "source": [
    "## Read all text files from a Directory"
   ]
  },
  {
   "cell_type": "code",
   "execution_count": 22,
   "id": "a430c098",
   "metadata": {},
   "outputs": [
    {
     "name": "stderr",
     "output_type": "stream",
     "text": [
      "100%|██████████| 2/2 [00:00<00:00, 83.71it/s]\n"
     ]
    },
    {
     "data": {
      "text/plain": [
       "2"
      ]
     },
     "execution_count": 22,
     "metadata": {},
     "output_type": "execute_result"
    }
   ],
   "source": [
    "directory_loader = DirectoryLoader(\"../data/txt\", \n",
    "                                   glob=\"*.txt\",\n",
    "                                   loader_cls=TextLoader,\n",
    "                                   loader_kwargs={\"encoding\": \"utf-8\"},\n",
    "                                   show_progress=True)\n",
    "\n",
    "documents = directory_loader.load()\n",
    "len(documents)"
   ]
  },
  {
   "cell_type": "code",
   "execution_count": 23,
   "id": "c920ed30",
   "metadata": {},
   "outputs": [
    {
     "name": "stdout",
     "output_type": "stream",
     "text": [
      "{'source': '..\\\\data\\\\txt\\\\india real estate checklist.txt'}\n",
      "{'source': '..\\\\data\\\\txt\\\\karnataka document checklist.txt'}\n"
     ]
    },
    {
     "data": {
      "text/plain": [
       "[None, None]"
      ]
     },
     "execution_count": 23,
     "metadata": {},
     "output_type": "execute_result"
    }
   ],
   "source": [
    "[print(i.metadata) for i in documents]"
   ]
  },
  {
   "cell_type": "markdown",
   "id": "c297e4e2",
   "metadata": {},
   "source": [
    "# Text Splitting Techniques"
   ]
  },
  {
   "cell_type": "markdown",
   "id": "30d20a43",
   "metadata": {},
   "source": [
    "## 1. CharacterTextSplitter"
   ]
  },
  {
   "cell_type": "code",
   "execution_count": 34,
   "id": "16e5d382",
   "metadata": {},
   "outputs": [
    {
     "name": "stderr",
     "output_type": "stream",
     "text": [
      "Created a chunk of size 565, which is longer than the specified 200\n"
     ]
    },
    {
     "name": "stdout",
     "output_type": "stream",
     "text": [
      "When buying farmland in India, you must check land title deeds and encumbrance certificates to ensure clear ownership and no financial liabilities, along with revenue records like the Record of Rights (ROR)/, mutation register, and property tax receipts to confirm tax compliance and a clean transaction history. Physical checks of the land, including boundary demarcation, soil quality, and water availability, are crucial. Additionally, be aware of state-specific rules, potential land ceiling limits, the need for conversion permissions, and zoning regulations.\n"
     ]
    }
   ],
   "source": [
    "text = documents[0].page_content\n",
    "\n",
    "character_splitter = CharacterTextSplitter(\n",
    "    separator='\\n',\n",
    "    chunk_size=200,\n",
    "    chunk_overlap=20,\n",
    "    length_function=len\n",
    ")\n",
    "\n",
    "char_chunks = character_splitter.split_text(text=text)\n",
    "print(char_chunks[0])"
   ]
  },
  {
   "cell_type": "code",
   "execution_count": 26,
   "id": "fc7e83a0",
   "metadata": {},
   "outputs": [
    {
     "data": {
      "text/plain": [
       "15"
      ]
     },
     "execution_count": 26,
     "metadata": {},
     "output_type": "execute_result"
    }
   ],
   "source": [
    "len(char_chunks)"
   ]
  },
  {
   "cell_type": "markdown",
   "id": "ce6d1e19",
   "metadata": {},
   "source": [
    "## 2. Recursive Character Text Splitter"
   ]
  },
  {
   "cell_type": "code",
   "execution_count": 36,
   "id": "2186f84d",
   "metadata": {},
   "outputs": [
    {
     "data": {
      "text/plain": [
       "['When buying farmland in India, you must check land title deeds and encumbrance certificates to ensure clear ownership and no financial liabilities, along with revenue records like the Record of Rights',\n",
       " 'Record of Rights (ROR)/, mutation register, and property tax receipts to confirm tax compliance and a clean transaction history. Physical checks of the land, including boundary demarcation, soil',\n",
       " 'demarcation, soil quality, and water availability, are crucial. Additionally, be aware of state-specific rules, potential land ceiling limits, the need for conversion permissions, and zoning',\n",
       " 'and zoning regulations.',\n",
       " \"Legal & Documentation Checks\\nTitle Deed & Ownership: Verify the seller's ownership and examine the title deed to ensure it's free from disputes.\",\n",
       " 'Encumbrance Certificate (EC): This certificate confirms the land is free from any financial or legal liabilities like mortgages.',\n",
       " 'Record of Rights (ROR) / 7-12 Extract: This document provides a history of land ownership and cultivation, verifying past transactions.',\n",
       " \"Mutation Register: Check for entries that confirm the land's ownership transfer over time. \\nProperty Tax & Land Tax Receipts: Ensure all land taxes are paid up to date.\",\n",
       " 'Survey Documents: Obtain documents like a survey map or sketch to confirm land boundaries.',\n",
       " 'Legal Expertise: Consult a lawyer or real estate expert to review all documents for legal compliance and clarity. \\nPhysical & Land-Related Checks',\n",
       " 'Site Inspection: Visit the property to assess soil quality, water sources, and overall land condition.',\n",
       " 'Water Availability: Check for sufficient water sources, such as groundwater or irrigation facilities, which impact land productivity.',\n",
       " 'Road Connectivity: Evaluate access to the farmland via roads, as this affects its value and accessibility.',\n",
       " \"Boundary Demarcation: Ensure the land's boundaries are clearly marked to prevent future disputes. \\nRegulatory & State-Specific Checks\",\n",
       " \"Land Classification & Use: Confirm the land's classification (e.g., for crop farming, horticulture) and check for zoning regulations that might restrict usage.\",\n",
       " \"State-Specific Restrictions: Research and understand the state's particular rules on who can buy agricultural land.\",\n",
       " 'Land Ceiling Limits: Be aware of state-specific limits on the maximum amount of agricultural land an individual can own.',\n",
       " 'Conversion Permissions: If you plan to use the land for non-agricultural purposes, obtain the necessary conversion permissions from authorities.']"
      ]
     },
     "execution_count": 36,
     "metadata": {},
     "output_type": "execute_result"
    }
   ],
   "source": [
    "recursive_splitter = RecursiveCharacterTextSplitter(\n",
    "    separators=[\"\\n\\n\", \"\\n\", \" \", \"\"],\n",
    "    chunk_size=200,\n",
    "    chunk_overlap=20,\n",
    "    length_function=len\n",
    ")\n",
    "\n",
    "recursive_chunks = recursive_splitter.split_text(text=text)\n",
    "recursive_chunks"
   ]
  },
  {
   "cell_type": "markdown",
   "id": "38d0c264",
   "metadata": {},
   "source": [
    "## TokenTextSplitter"
   ]
  },
  {
   "cell_type": "code",
   "execution_count": 38,
   "id": "5f908683",
   "metadata": {},
   "outputs": [
    {
     "name": "stdout",
     "output_type": "stream",
     "text": [
      "[\"When buying farmland in India, you must check land title deeds and encumbrance certificates to ensure clear ownership and no financial liabilities, along with revenue records like the Record of Rights (ROR)/, mutation register, and property tax receipts to confirm tax compliance and a clean transaction history. Physical checks of the land, including boundary demarcation, soil quality, and water availability, are crucial. Additionally, be aware of state-specific rules, potential land ceiling limits, the need for conversion permissions, and zoning regulations. \\nLegal & Documentation Checks\\nTitle Deed & Ownership: Verify the seller's ownership and examine the title deed to ensure it's free from disputes. \\nEncumbrance Certificate (EC): This certificate confirms the land is free from any financial or legal liabilities like mortgages. \\nRecord of Rights (ROR) / 7-12 Extract: This document provides a history of land ownership and cultivation, verifying past transactions. \\nMutation Register: Check for entries that confirm\", \" land ownership and cultivation, verifying past transactions. \\nMutation Register: Check for entries that confirm the land's ownership transfer over time. \\nProperty Tax & Land Tax Receipts: Ensure all land taxes are paid up to date. \\nSurvey Documents: Obtain documents like a survey map or sketch to confirm land boundaries. \\nLegal Expertise: Consult a lawyer or real estate expert to review all documents for legal compliance and clarity. \\nPhysical & Land-Related Checks\\nSite Inspection: Visit the property to assess soil quality, water sources, and overall land condition. \\nWater Availability: Check for sufficient water sources, such as groundwater or irrigation facilities, which impact land productivity. \\nRoad Connectivity: Evaluate access to the farmland via roads, as this affects its value and accessibility. \\nBoundary Demarcation: Ensure the land's boundaries are clearly marked to prevent future disputes. \\nRegulatory & State-Specific Checks\\nLand Classification &\", \" clearly marked to prevent future disputes. \\nRegulatory & State-Specific Checks\\nLand Classification & Use: Confirm the land's classification (e.g., for crop farming, horticulture) and check for zoning regulations that might restrict usage. \\nState-Specific Restrictions: Research and understand the state's particular rules on who can buy agricultural land. \\nLand Ceiling Limits: Be aware of state-specific limits on the maximum amount of agricultural land an individual can own. \\nConversion Permissions: If you plan to use the land for non-agricultural purposes, obtain the necessary conversion permissions from authorities. \\n\"]\n"
     ]
    }
   ],
   "source": [
    "token_splitter = TokenTextSplitter(\n",
    "    chunk_size=200,\n",
    "    chunk_overlap=20\n",
    ")\n",
    "\n",
    "token_chunks = token_splitter.split_text(text=text)\n",
    "print(token_chunks)"
   ]
  },
  {
   "cell_type": "code",
   "execution_count": null,
   "id": "14f48ef3",
   "metadata": {},
   "outputs": [],
   "source": []
  }
 ],
 "metadata": {
  "kernelspec": {
   "display_name": "RAG",
   "language": "python",
   "name": "python3"
  },
  "language_info": {
   "codemirror_mode": {
    "name": "ipython",
    "version": 3
   },
   "file_extension": ".py",
   "mimetype": "text/x-python",
   "name": "python",
   "nbconvert_exporter": "python",
   "pygments_lexer": "ipython3",
   "version": "3.11.9"
  }
 },
 "nbformat": 4,
 "nbformat_minor": 5
}
